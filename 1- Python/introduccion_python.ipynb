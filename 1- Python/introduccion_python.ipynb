{
 "cells": [
  {
   "cell_type": "markdown",
   "metadata": {},
   "source": [
    "# Python"
   ]
  },
  {
   "cell_type": "markdown",
   "metadata": {},
   "source": [
    "## ¿Qué es Python?"
   ]
  },
  {
   "cell_type": "markdown",
   "metadata": {},
   "source": [
    "Es un lenguaje de programación:\n",
    "* Orientado a objetos\n",
    "* Multiplataforma\n",
    "* Interpretado\n",
    "* De tipado dinámico"
   ]
  },
  {
   "cell_type": "markdown",
   "metadata": {},
   "source": [
    "## Sintaxis"
   ]
  },
  {
   "cell_type": "markdown",
   "metadata": {},
   "source": [
    "Python es famoso por su sintaxis amigable que en escencia es muy similar a la estructura del idioma inglés. Para simplificar su uso, sus creadores se dieron a la tarea de diseñar una sintaxis sencilla y fácil de leer, eliminando en la medida de lo posible elementos como signos de puntuació que muchos otros lenguajes usan para estructurar su código y, en su lugar, utilizando la indentación del código para cumplir esta función.  \n",
    "\n",
    "```python\n",
    "x = 1\n",
    "\n",
    "if x == 1:\n",
    "    print(\"Esto solo se imprime cuando x es igual a uno\")\n",
    "\n",
    "print('Esto se imprime independientemente del valor de x')\n",
    "```"
   ]
  },
  {
   "cell_type": "markdown",
   "metadata": {},
   "source": [
    "## Comentarios"
   ]
  },
  {
   "cell_type": "markdown",
   "metadata": {},
   "source": [
    "Podemos usar el gato (`#`) para generar comentarios. Todo el texto que se encuentre despues de este caracter especial dentro de la misma línea será ignorado.\n",
    "\n",
    "```python\n",
    "# Este es un comentario\n",
    "\n",
    "valor = 0     # Este también es un comentario\n",
    "```"
   ]
  },
  {
   "cell_type": "markdown",
   "metadata": {},
   "source": [
    "## Tipos de datos"
   ]
  },
  {
   "cell_type": "markdown",
   "metadata": {},
   "source": [
    "Existen varios tipos de datos, algunos de los más comunes son:  \n",
    "\n",
    "Numéricos:  \n",
    "\n",
    "```python\n",
    "a = 1        # int (entero)\n",
    "b = 1.5      # float (punto flotante)\n",
    "c = 1 + 3j   # complex (número complejo)\n",
    "```\n",
    "\n",
    "Cadenas:  \n",
    "\n",
    "```python\n",
    "s = \"Hola\"   # str (cadena)\n",
    "```  \n",
    "\n",
    "Booleanos:\n",
    "```python\n",
    "v = True     # bool (booleano)\n",
    "w = False    # bool (booleano)\n",
    "```"
   ]
  },
  {
   "cell_type": "markdown",
   "metadata": {},
   "source": [
    "## Operaciones con números"
   ]
  },
  {
   "cell_type": "markdown",
   "metadata": {},
   "source": [
    "Python nos permite hacer operaciones con algunos datos de distinto tipo sin la necesidad de convertirlos explicitamente. Este es el caso con los tipos de dato numéricos.\n",
    "\n",
    "\n",
    "Ejemplo:  "
   ]
  },
  {
   "cell_type": "code",
   "execution_count": 1,
   "metadata": {},
   "outputs": [
    {
     "data": {
      "text/plain": [
       "9.5"
      ]
     },
     "execution_count": 1,
     "metadata": {},
     "output_type": "execute_result"
    }
   ],
   "source": [
    "8 + 1.5"
   ]
  },
  {
   "cell_type": "markdown",
   "metadata": {},
   "source": [
    "Ejemplos de operaciones:"
   ]
  },
  {
   "cell_type": "code",
   "execution_count": 2,
   "metadata": {},
   "outputs": [],
   "source": [
    "a = 1 + 1.5 # Suma\n",
    "b = 3 - 0.5 # Resta\n",
    "c = 5 * 8   # Multiplicacion\n",
    "d = 100 / 5 # División\n",
    "e = 9 ** 2  # Exponente\n",
    "\n",
    "f = 9 // 5  # Floor Division\n",
    "g = 25 % 7  # Modulus"
   ]
  },
  {
   "cell_type": "markdown",
   "metadata": {},
   "source": [
    "## Cadenas"
   ]
  },
  {
   "cell_type": "markdown",
   "metadata": {},
   "source": [
    "Las cadenas se crean al introducir un texto rodeado por comillas (ya sean dobles o sencillas).  \n",
    "\n",
    "```python\n",
    "cadena = \"Hola Mundo\"\n",
    "```\n",
    "\n",
    "Podemos introducir caracteres especiales en una cadena usando `\"\\\"` como caracter de escape. algunos de los usos más comunes serían:  \n",
    "* `\\t`: tabulador  \n",
    "* `\\n`: salto de linea  \n",
    "* `\\\\`: escapa el caracter `\"\\\"`  \n",
    "* `\\'`: escapa una comilla sencilla  \n",
    "* `\\\"`: escapa una comilla doble  \n",
    "\n",
    "Ejemplo:"
   ]
  },
  {
   "cell_type": "code",
   "execution_count": 3,
   "metadata": {},
   "outputs": [
    {
     "name": "stdout",
     "output_type": "stream",
     "text": [
      "Este es un ejemplo:\n",
      "1.-\tUno\n",
      "2.-\tDos\n"
     ]
    }
   ],
   "source": [
    "print('Este es un ejemplo:\\n1.-\\tUno\\n2.-\\tDos')"
   ]
  },
  {
   "cell_type": "markdown",
   "metadata": {},
   "source": [
    "## Operaciones con cadenas"
   ]
  },
  {
   "cell_type": "markdown",
   "metadata": {},
   "source": [
    "El operador de suma sirve para concatenar cadenas"
   ]
  },
  {
   "cell_type": "code",
   "execution_count": 4,
   "metadata": {},
   "outputs": [
    {
     "name": "stdout",
     "output_type": "stream",
     "text": [
      "suma_de_cadenas\n"
     ]
    }
   ],
   "source": [
    "print(\"suma\" + \"_de_\" + \"cadenas\")"
   ]
  },
  {
   "cell_type": "markdown",
   "metadata": {},
   "source": [
    "El de multiplicación repite una misma cadena \"n\" número de veces"
   ]
  },
  {
   "cell_type": "code",
   "execution_count": 5,
   "metadata": {},
   "outputs": [
    {
     "name": "stdout",
     "output_type": "stream",
     "text": [
      "multiplicacion_multiplicacion_multiplicacion_\n"
     ]
    }
   ],
   "source": [
    "print('multiplicacion_' * 3)"
   ]
  },
  {
   "cell_type": "markdown",
   "metadata": {},
   "source": [
    "Además de poder aplicar estas operaciones. Los objetos de tipo cadena contienen métodos propios que facilitan realizar tareas de uso frecuente. Entre algunas de las más importantes están las siguientes:"
   ]
  },
  {
   "cell_type": "code",
   "execution_count": 6,
   "metadata": {},
   "outputs": [
    {
     "name": "stdout",
     "output_type": "stream",
     "text": [
      "upper: FOO BAR\n",
      "lower: foo bar\n",
      "title: Foo Bar\n"
     ]
    }
   ],
   "source": [
    "cadena = \"FOO bar\"\n",
    "\n",
    "print('upper:', cadena.upper() )\n",
    "print('lower:', cadena.lower() )\n",
    "print('title:', cadena.title() )"
   ]
  },
  {
   "cell_type": "markdown",
   "metadata": {},
   "source": [
    "Otro método importante es el `.format()`. Este nos permite usar una cadena como plantilla dejando espacios marcados con llaves para despues ser rellenados con este método."
   ]
  },
  {
   "cell_type": "code",
   "execution_count": 7,
   "metadata": {},
   "outputs": [
    {
     "name": "stdout",
     "output_type": "stream",
     "text": [
      "/home/user-301/proyectos/analisis-rentabilidad-productos\n"
     ]
    }
   ],
   "source": [
    "usuario = 'user-301'\n",
    "proyecto = 'analisis-rentabilidad-productos'\n",
    "\n",
    "ruta = '/home/{}/proyectos/{}'    # Esta cadena se usa como plantilla\n",
    "\n",
    "\n",
    "print(ruta.format(usuario, proyecto))"
   ]
  },
  {
   "cell_type": "markdown",
   "metadata": {},
   "source": [
    "> ***Ejercicios:*** Tipos de dato y operadores"
   ]
  },
  {
   "cell_type": "markdown",
   "metadata": {},
   "source": [
    "## Listas"
   ]
  },
  {
   "cell_type": "markdown",
   "metadata": {},
   "source": [
    "Las listas son una de las estructuras de datos más utilizadas en Python. Las listas nos sirven para almacenar datos en el orden que fueron ingresados. A diferencia de los arreglos que existen en otros lenguajes, las listas permiten almacenrar elementos de distintos tipos.  \n",
    "\n",
    "Para generar una lista utilizamos los corchetes `[` y `]`. Los elementos van separados dentro de la misma por comas."
   ]
  },
  {
   "cell_type": "code",
   "execution_count": 8,
   "metadata": {},
   "outputs": [],
   "source": [
    "lista_numeros = [1, 2, 3, 4]\n",
    "\n",
    "lista_mixta = [1, 'dos', [-1, -2, -3]]"
   ]
  },
  {
   "cell_type": "markdown",
   "metadata": {},
   "source": [
    "### Operaciones con Listas"
   ]
  },
  {
   "cell_type": "markdown",
   "metadata": {},
   "source": [
    "El operador de suma cuando se utiliza con dos listas genera una tercera que inclule los elementos de ambas."
   ]
  },
  {
   "cell_type": "code",
   "execution_count": 9,
   "metadata": {},
   "outputs": [
    {
     "data": {
      "text/plain": [
       "[1, 2, 3, 4, 1, 'dos', [-1, -2, -3]]"
      ]
     },
     "execution_count": 9,
     "metadata": {},
     "output_type": "execute_result"
    }
   ],
   "source": [
    "lista_numeros + lista_mixta"
   ]
  },
  {
   "cell_type": "markdown",
   "metadata": {},
   "source": [
    "El operador de multiplicación genera una lista donde los elementos de la primera se repiten \"n\" número de veces."
   ]
  },
  {
   "cell_type": "code",
   "execution_count": 10,
   "metadata": {},
   "outputs": [
    {
     "data": {
      "text/plain": [
       "[1, 2, 3, 4, 1, 2, 3, 4, 1, 2, 3, 4]"
      ]
     },
     "execution_count": 10,
     "metadata": {},
     "output_type": "execute_result"
    }
   ],
   "source": [
    "lista_numeros * 3"
   ]
  },
  {
   "cell_type": "markdown",
   "metadata": {},
   "source": [
    "### Metodos importantes"
   ]
  },
  {
   "cell_type": "markdown",
   "metadata": {},
   "source": [
    "El método `.append()` agrega un elemento al final de la lista."
   ]
  },
  {
   "cell_type": "code",
   "execution_count": 11,
   "metadata": {},
   "outputs": [
    {
     "name": "stdout",
     "output_type": "stream",
     "text": [
      "[1, 2, 3, 'x']\n"
     ]
    }
   ],
   "source": [
    "lista = [1, 2, 3]\n",
    "\n",
    "lista.append('x')\n",
    "\n",
    "print(lista)"
   ]
  },
  {
   "cell_type": "markdown",
   "metadata": {},
   "source": [
    "El método `.remove()` elimina un elemento de la lista."
   ]
  },
  {
   "cell_type": "code",
   "execution_count": 12,
   "metadata": {},
   "outputs": [
    {
     "name": "stdout",
     "output_type": "stream",
     "text": [
      "[1, 3]\n"
     ]
    }
   ],
   "source": [
    "lista = [1, 2, 3]\n",
    "\n",
    "lista.remove(2)\n",
    "\n",
    "print(lista)"
   ]
  },
  {
   "cell_type": "markdown",
   "metadata": {},
   "source": [
    "El método `.extend()` no debe de ser confundido con el `.append()`. Este tambien agrega elementos a una lista pero, a diferencia del anterior, toma un objeto iterable (objetos con caracteristicas similares a las de una lista) y agrega los elementos que esta contiene a la lista original."
   ]
  },
  {
   "cell_type": "code",
   "execution_count": 13,
   "metadata": {},
   "outputs": [
    {
     "name": "stdout",
     "output_type": "stream",
     "text": [
      "[1, 2, 3, 4, 5, 6]\n"
     ]
    }
   ],
   "source": [
    "lista = [1, 2, 3]\n",
    "\n",
    "lista.extend([4, 5, 6])\n",
    "\n",
    "print(lista)"
   ]
  },
  {
   "cell_type": "markdown",
   "metadata": {},
   "source": [
    "El método `.pop()` remueve el último elemento de la lista y además regresa el valor del elemento que fue eliminado para poderlo usar más adelante."
   ]
  },
  {
   "cell_type": "code",
   "execution_count": 14,
   "metadata": {},
   "outputs": [
    {
     "name": "stdout",
     "output_type": "stream",
     "text": [
      "[1, 2]\n",
      "Elemento eliminado: 3\n"
     ]
    }
   ],
   "source": [
    "lista = [1, 2, 3]\n",
    "\n",
    "elemento_eliminado = lista.pop()\n",
    "\n",
    "print(lista)\n",
    "print('Elemento eliminado:', elemento_eliminado)"
   ]
  },
  {
   "cell_type": "markdown",
   "metadata": {},
   "source": [
    "El mtodo `.sort()` nos ayuda a ordenar los elementos dentro de una lista."
   ]
  },
  {
   "cell_type": "code",
   "execution_count": 15,
   "metadata": {},
   "outputs": [
    {
     "name": "stdout",
     "output_type": "stream",
     "text": [
      "[1, 2, 3]\n"
     ]
    }
   ],
   "source": [
    "lista = [3, 1, 2]\n",
    "\n",
    "lista.sort()\n",
    "\n",
    "print(lista)"
   ]
  },
  {
   "cell_type": "markdown",
   "metadata": {},
   "source": [
    "## Tuplas"
   ]
  },
  {
   "cell_type": "markdown",
   "metadata": {},
   "source": [
    "Las tuplas son una estructura de datos muy similar a las listas. Tambien pueden almacenar elementos de distintos tipos.  \n",
    "\n",
    "A diferencia de las listas, las tuplas no son objetos mutables, es decir, no se pueden modificar los elementos que contienen debido a que el orden en que están almacenados va ligado con su significado. Un ejemplo muy concido de datos que pueden ser almacenados en una tupla son las coordenadas geográficas, ya que en ellas el significado de los elementos va ligado a su posición.\n",
    "\n",
    "Para generar una tupla, usamos una sintaxis similr a la de las listas, pero en lugar de usar corchetes, usamos paréntesis ( `\"(\"` y `\")\"`).\n",
    "\n",
    "Ejemplo:"
   ]
  },
  {
   "cell_type": "code",
   "execution_count": 16,
   "metadata": {},
   "outputs": [
    {
     "name": "stdout",
     "output_type": "stream",
     "text": [
      "Ubicación de la ciudad de Monterrey\n",
      "Latitud:\t 25.675723\n",
      "Longitud:\t -100.346093\n"
     ]
    }
   ],
   "source": [
    "monterrey = (25.675723, -100.346093)\n",
    "\n",
    "print ('Ubicación de la ciudad de Monterrey')\n",
    "print ('Latitud:\\t', monterrey[0])\n",
    "print ('Longitud:\\t', monterrey[1])"
   ]
  },
  {
   "cell_type": "markdown",
   "metadata": {},
   "source": [
    "En este ejemplo, no tendría sentido cambiar alguno de estos valores ya que el hacerlo haría que la ubicación no correspondiera con la de la ciudad."
   ]
  },
  {
   "cell_type": "markdown",
   "metadata": {},
   "source": [
    "## Índices y cortes"
   ]
  },
  {
   "cell_type": "markdown",
   "metadata": {},
   "source": [
    "Para acceder a los elementos de un objeto iterable, coo una lista o una tupla, podemos hacer referencia a si índice usando corchetes despues del elemento usando esta sintaxis: `objeto_iterable[indice]`. Al hacer esto, python nos regresará el elemento que se encuentra en la posición indicada.\n",
    "\n",
    "Nota: En python los indices empiezan en cero."
   ]
  },
  {
   "cell_type": "code",
   "execution_count": 17,
   "metadata": {},
   "outputs": [
    {
     "name": "stdout",
     "output_type": "stream",
     "text": [
      "uno\n"
     ]
    }
   ],
   "source": [
    "lista = ['cero', 'uno', 'dos', 'tres']\n",
    "\n",
    "print(lista[1])"
   ]
  },
  {
   "cell_type": "markdown",
   "metadata": {},
   "source": [
    "Tambien podemos usar índices negativos para acceder a los valores contando a partir del final (el último elemento tiene el indice -1)."
   ]
  },
  {
   "cell_type": "code",
   "execution_count": 18,
   "metadata": {},
   "outputs": [
    {
     "name": "stdout",
     "output_type": "stream",
     "text": [
      "tres\n"
     ]
    }
   ],
   "source": [
    "lista = ['cero', 'uno', 'dos', 'tres']\n",
    "\n",
    "print(lista[-1])"
   ]
  },
  {
   "cell_type": "markdown",
   "metadata": {},
   "source": [
    "Ademas de acceder elementos individuales, va a haber ocasiones en las que queremos obtener una lista (u objeto iterable) que contenga solo una fracción de los elementos del objeto original. En este caso podemos hacer uso de los cortes usando corchetes con la siguiente sintaxis: `objeto_iterable[inicio:fin]`  \n",
    "\n",
    "Nota: el elemento con el indice correspondiente al `inicio` será incluido en la lista resultante, pero el que tiene el indice correspondiente a `fin` no."
   ]
  },
  {
   "cell_type": "code",
   "execution_count": 19,
   "metadata": {},
   "outputs": [
    {
     "name": "stdout",
     "output_type": "stream",
     "text": [
      "['uno', 'dos']\n"
     ]
    }
   ],
   "source": [
    "lista = ['cero', 'uno', 'dos', 'tres']\n",
    "\n",
    "print(lista[1:3])"
   ]
  },
  {
   "cell_type": "markdown",
   "metadata": {},
   "source": [
    "Tambien podemos omitir cualquiera de los dos valores para indicar que deseamos incluir los elementos desde el primero (omitiendo el valor de `inicio`) o hasta el final (omitiendo el valor de `fin`)"
   ]
  },
  {
   "cell_type": "code",
   "execution_count": 20,
   "metadata": {},
   "outputs": [
    {
     "name": "stdout",
     "output_type": "stream",
     "text": [
      "['uno', 'dos', 'tres']\n"
     ]
    }
   ],
   "source": [
    "lista = ['cero', 'uno', 'dos', 'tres']\n",
    "\n",
    "print(lista[1:])"
   ]
  },
  {
   "cell_type": "code",
   "execution_count": 21,
   "metadata": {},
   "outputs": [
    {
     "name": "stdout",
     "output_type": "stream",
     "text": [
      "['cero', 'uno']\n"
     ]
    }
   ],
   "source": [
    "lista = ['cero', 'uno', 'dos', 'tres']\n",
    "\n",
    "print(lista[0:2])"
   ]
  },
  {
   "cell_type": "markdown",
   "metadata": {},
   "source": [
    "> ***Ejercicios:*** Listas, indices y cortes"
   ]
  },
  {
   "cell_type": "markdown",
   "metadata": {},
   "source": [
    "## Diccionarios"
   ]
  },
  {
   "cell_type": "markdown",
   "metadata": {},
   "source": [
    "Los diccionarios son otra estructura de datos importante en python. De manera similar a las listas y tuplas, pueden almacenar datos de distintos tipos. Pero a diferencia de estas, el orden en que los datos fueron introducidos no indica la manera en que estos serán almacenados. En lugar de esto, los diccionarios usan claves que funcionan a manera de indice para acceder a los datos almacenados.  \n",
    "\n",
    "Para generar un diccionario usamos llaves además de claves y valores separadas usando la siguiente sintaxis:  \n",
    "\n",
    "```python\n",
    "diccionario = { clave_1: valor_1, clave_2: valor_2, ...}\n",
    "\n",
    "```\n",
    "\n",
    "Ejemplo:"
   ]
  },
  {
   "cell_type": "code",
   "execution_count": 22,
   "metadata": {},
   "outputs": [
    {
     "name": "stdout",
     "output_type": "stream",
     "text": [
      "{'nombre': 'Pedro', 'apellido': 'Perez'}\n"
     ]
    }
   ],
   "source": [
    "jugador = {\n",
    "    'nombre': 'Pedro',\n",
    "    'apellido': 'Perez'\n",
    "}\n",
    "\n",
    "print(jugador)"
   ]
  },
  {
   "cell_type": "markdown",
   "metadata": {},
   "source": [
    "Las clabes de un diccionario por lo general son cadenas y para acceder a los datos las utilizamos con una sintaxis simalar a la que usabamos para acceder a los indices en las listas: `diccionario[clave]`"
   ]
  },
  {
   "cell_type": "code",
   "execution_count": 23,
   "metadata": {},
   "outputs": [
    {
     "name": "stdout",
     "output_type": "stream",
     "text": [
      "Pedro\n"
     ]
    }
   ],
   "source": [
    "print(jugador['nombre'])"
   ]
  },
  {
   "cell_type": "markdown",
   "metadata": {},
   "source": [
    "Tambien podemos usar esta misma sintaxis para generar nuevas claves o modificar los valores de las existentes."
   ]
  },
  {
   "cell_type": "code",
   "execution_count": 24,
   "metadata": {},
   "outputs": [
    {
     "name": "stdout",
     "output_type": "stream",
     "text": [
      "{'nombre': 'Pedro', 'apellido': 'Perez', 'edad': 23}\n"
     ]
    }
   ],
   "source": [
    "jugador['edad'] = 23\n",
    "\n",
    "print(jugador)"
   ]
  },
  {
   "cell_type": "markdown",
   "metadata": {},
   "source": [
    "> ***Ejercicios:*** Diccionarios"
   ]
  },
  {
   "cell_type": "markdown",
   "metadata": {},
   "source": [
    "## Operadores Lógicos, Estructuras de Control y Funciones"
   ]
  },
  {
   "cell_type": "markdown",
   "metadata": {},
   "source": [
    "### Operadores Lógicos"
   ]
  },
  {
   "cell_type": "markdown",
   "metadata": {},
   "source": [
    "Podemos controlar la ejecución de ciertas áreas de nuestro código basado en si se cumple o no cierto requisito. Para esto podemos utiliza distintos operadores de comparación que nos regresan valores booleanos. Entre ellos se encuentan los siguientes:\n",
    "\n",
    "```python\n",
    "igualdad = 5 * 2 == 10  # Igualdad (==)\n",
    "diferente = 3 != 4      # Diferente a (!=)\n",
    "mayor = 10 > 3          # Mayor que (>)\n",
    "menor = 2 < 5           # Menor que (<)\n",
    "mayor_eq = 6 >= 1       # Mayor o igual que (>=)\n",
    "menor_eq = 3 <= 15      # Menor o igual que (<=)\n",
    "```\n",
    "\n",
    "Además podemos compinar varios de estas evaluaciones con el uso de `and` y `or`.\n",
    "```python\n",
    "y = True and True       # \"and\" se evalua como verdadero si ambas expresiones son verdaderas\n",
    "y = True & True         # Forma alternativa de expresar el \"and\"\n",
    "\n",
    "o = True or False       # \"or\" se evalua como verdadero si por lo menos uno de los elementos es verdadero\n",
    "o = True | False        # Forma alternativa de expresar el \"or\"\n",
    "```"
   ]
  },
  {
   "cell_type": "markdown",
   "metadata": {},
   "source": [
    "### Estructuras de control"
   ]
  },
  {
   "cell_type": "markdown",
   "metadata": {},
   "source": [
    "***if***  \n",
    "Ejecuta un bloque de código solo si se cumple una condición determinada."
   ]
  },
  {
   "cell_type": "code",
   "execution_count": 25,
   "metadata": {},
   "outputs": [
    {
     "name": "stdout",
     "output_type": "stream",
     "text": [
      "x es mayor o igual a 5\n"
     ]
    }
   ],
   "source": [
    "x = 10\n",
    "\n",
    "if x >= 5:\n",
    "    print('x es mayor o igual a 5')"
   ]
  },
  {
   "cell_type": "markdown",
   "metadata": {},
   "source": [
    "***elif y else***  \n",
    "En ocasiones nos interesa evaluar más de una expresión, en esos casos podemos hacer uso del `elif` para evaluar una condición adicional en caso de que la anterior (o anteriores) no se hayan cumplido. Además podemos incluir un `else` para incluir un bloque de código que se ejecutaría solo si ninguna de las condiciones fue cumplida."
   ]
  },
  {
   "cell_type": "code",
   "execution_count": 26,
   "metadata": {},
   "outputs": [
    {
     "name": "stdout",
     "output_type": "stream",
     "text": [
      "x es igual a 6\n"
     ]
    }
   ],
   "source": [
    "x = 6\n",
    "\n",
    "if x == 1:\n",
    "    print('x es igual a uno')\n",
    "    \n",
    "elif x == 2:\n",
    "    print('x es igual a dos')\n",
    "    \n",
    "elif x == 3:\n",
    "    print('x es igual a tres')\n",
    "    \n",
    "else:\n",
    "    print('x es igual a', x)"
   ]
  },
  {
   "cell_type": "markdown",
   "metadata": {},
   "source": [
    "***for***  \n",
    "Se utiliza para ejecutar un bloque de código \"n\" número de veces a partir del número de elementos en un objeto iterable (como una lista). Se asigna un álias para hacer referencia al valor del elemento en cada una de las iteraciones."
   ]
  },
  {
   "cell_type": "code",
   "execution_count": 27,
   "metadata": {},
   "outputs": [
    {
     "name": "stdout",
     "output_type": "stream",
     "text": [
      "Hola Hugo\n",
      "Hola Paco\n",
      "Hola Luis\n"
     ]
    }
   ],
   "source": [
    "for nombre in ['Hugo', 'Paco', 'Luis']:\n",
    "    print('Hola ' + nombre)"
   ]
  },
  {
   "cell_type": "code",
   "execution_count": 28,
   "metadata": {},
   "outputs": [
    {
     "name": "stdout",
     "output_type": "stream",
     "text": [
      "El valor de x es 0\n",
      "El valor de x es 1\n",
      "El valor de x es 2\n",
      "El valor de x es 3\n",
      "El valor de x es 4\n"
     ]
    }
   ],
   "source": [
    "for x in range(5):\n",
    "    print('El valor de x es', x)"
   ]
  },
  {
   "cell_type": "markdown",
   "metadata": {},
   "source": [
    "***while***  \n",
    "Se utiliaza para ejecutar repetidamente un bloque de código mientras se cumpla una condicion determinada.  \n",
    "\n",
    "Nota: Es importante tener cuidado de que la condición que estamos evaluando en algun momento se evalue como falso, de lo contrario el bloque de código se ejecutará en un ciclo infinito."
   ]
  },
  {
   "cell_type": "code",
   "execution_count": 29,
   "metadata": {},
   "outputs": [
    {
     "name": "stdout",
     "output_type": "stream",
     "text": [
      "0 al cuadrado es menor que 10\n",
      "1 al cuadrado es menor que 10\n",
      "2 al cuadrado es menor que 10\n",
      "3 al cuadrado es menor que 10\n"
     ]
    }
   ],
   "source": [
    "i = 0\n",
    "\n",
    "while i**2 < 10:\n",
    "    print(i, 'al cuadrado es menor que 10')\n",
    "    i = i + 1      # Esto evita que entremos en un ciclo infinito   "
   ]
  },
  {
   "cell_type": "markdown",
   "metadata": {},
   "source": [
    "### Funciones"
   ]
  },
  {
   "cell_type": "markdown",
   "metadata": {},
   "source": [
    "#### Definir una funcion"
   ]
  },
  {
   "cell_type": "markdown",
   "metadata": {},
   "source": [
    "Las funciones nos ayudan a segmentar nuesto código en bloques más pequeños. Esto nos permite reutilizalos de manera más sencilla y estructurar el código de una forma más legible y facil de debugear.  \n",
    "\n",
    "Para definir una función en Python usamos la sentencia `def` seguida del nombre de la funcion y un juego de parentesis donde incluimos los argumentos que esta recibe.  \n",
    "\n",
    "Opcionalmente podemos agregar la sentencia `return` al final de la función para hacer que esta regrese algun valor al ser ejecutada."
   ]
  },
  {
   "cell_type": "code",
   "execution_count": 30,
   "metadata": {},
   "outputs": [
    {
     "data": {
      "text/plain": [
       "20"
      ]
     },
     "execution_count": 30,
     "metadata": {},
     "output_type": "execute_result"
    }
   ],
   "source": [
    "def calcula_area(base, altura):\n",
    "    area = base * altura\n",
    "    return area\n",
    "\n",
    "calcula_area(10, 2)"
   ]
  },
  {
   "cell_type": "markdown",
   "metadata": {},
   "source": [
    "#### Valores por defecto"
   ]
  },
  {
   "cell_type": "markdown",
   "metadata": {},
   "source": [
    "En algunas ocasiones habrá valores que usaremos muy seguido como argumento en nuestras funciones. Si este es el caso, podemos definir un valor por defecto para este argumento. Esto nos permitirá omitirlo al momento de llamar la función y de esta manera usaremos el valor antes definido."
   ]
  },
  {
   "cell_type": "code",
   "execution_count": 31,
   "metadata": {},
   "outputs": [
    {
     "name": "stdout",
     "output_type": "stream",
     "text": [
      "8 + 3 = 11\n"
     ]
    },
    {
     "data": {
      "text/plain": [
       "11"
      ]
     },
     "execution_count": 31,
     "metadata": {},
     "output_type": "execute_result"
    }
   ],
   "source": [
    "def suma_valores(x, y, imprime_operacion=True):\n",
    "    \n",
    "    respuesta = x + y\n",
    "    \n",
    "    if imprime_operacion:\n",
    "        print(x, '+', y, '=', respuesta)\n",
    "        \n",
    "    return respuesta\n",
    "\n",
    "\n",
    "suma_valores(8,3)"
   ]
  },
  {
   "cell_type": "markdown",
   "metadata": {},
   "source": [
    "#### Docstring"
   ]
  },
  {
   "cell_type": "markdown",
   "metadata": {},
   "source": [
    "Cuando programamos es una buena práctica dejar nuestro código bien documentado y una de las formas de hacerlo es mediante el uso de `Docstrings`. Estas son cadenas que explican la forma correcta de usar la función, así como sus argumentos y salida esperada. Para generar un docstring usamos una cadena de una o más líneas encerrado entre triple comilla doble en la primer línea de nuestra función.\n",
    "\n",
    "Ejemplo:"
   ]
  },
  {
   "cell_type": "code",
   "execution_count": 32,
   "metadata": {},
   "outputs": [
    {
     "data": {
      "text/plain": [
       "20"
      ]
     },
     "execution_count": 32,
     "metadata": {},
     "output_type": "execute_result"
    }
   ],
   "source": [
    "def calcula_area(base, altura):\n",
    "    \"\"\"\n",
    "    Calcula el área de un rectángulo en utilizando la medida de \n",
    "    su base y su altura.\n",
    "    \n",
    "    Argumentos:\n",
    "    -----------\n",
    "    base : float\n",
    "        Longitud de la base en metros\n",
    "    altura : float\n",
    "        Altura del rectángulo en metros\n",
    "    \n",
    "    \n",
    "    Respuesta:\n",
    "    ----------\n",
    "    area : float\n",
    "        Área del rectángulo en metros cuadrados\n",
    "    \"\"\"\n",
    "    area = base * altura\n",
    "    return area\n",
    "\n",
    "calcula_area(10, 2)"
   ]
  },
  {
   "cell_type": "markdown",
   "metadata": {},
   "source": [
    "> ***Ejercicios:*** Operadores Lógicos, Estructuras de Control y Funciones"
   ]
  },
  {
   "cell_type": "markdown",
   "metadata": {},
   "source": [
    "## Listas por comprensión"
   ]
  },
  {
   "cell_type": "markdown",
   "metadata": {},
   "source": [
    "Las listas por comprensión son una forma abrebiada de generaar listas a partir de un objeto iterable. Para generarlas se utiliza un ciclo for al cual se le puede agregar cierta lógica con una sintaxis abreviada.  \n",
    "\n",
    "A continuación vemos la construcción tradicional de una lista a partir de un for tradicional:"
   ]
  },
  {
   "cell_type": "code",
   "execution_count": 33,
   "metadata": {},
   "outputs": [
    {
     "name": "stdout",
     "output_type": "stream",
     "text": [
      "['lunes', 'martes', 'miercoles', 'jueves', 'viernes']\n"
     ]
    }
   ],
   "source": [
    "semana = ['lunes', 'martes', 'miercoles', 'jueves', 'viernes', 'sabado', 'domingo']\n",
    "\n",
    "lista = []                    # Se inicializa la lista vacía\n",
    "\n",
    "for dia in semana:            # Ciclo for  \n",
    "    if dia[-1] == 's':        # Condición\n",
    "        lista.append(dia)     # Se agrega a la lista solo si cumple la condición\n",
    "\n",
    "print(lista)"
   ]
  },
  {
   "cell_type": "markdown",
   "metadata": {},
   "source": [
    "Equivalente usando listas por comprención:"
   ]
  },
  {
   "cell_type": "code",
   "execution_count": 34,
   "metadata": {},
   "outputs": [
    {
     "name": "stdout",
     "output_type": "stream",
     "text": [
      "['lunes', 'martes', 'miercoles', 'jueves', 'viernes']\n"
     ]
    }
   ],
   "source": [
    "semana = ['lunes', 'martes', 'miercoles', 'jueves', 'viernes', 'sabado', 'domingo']\n",
    "\n",
    "lista = [ dia for dia in semana if dia[-1] == 's']\n",
    "\n",
    "print(lista)"
   ]
  },
  {
   "cell_type": "markdown",
   "metadata": {},
   "source": [
    "Tambien es posible controlar el formato con que se agregan los valores a la lista."
   ]
  },
  {
   "cell_type": "code",
   "execution_count": 35,
   "metadata": {},
   "outputs": [
    {
     "name": "stdout",
     "output_type": "stream",
     "text": [
      "['Lunes', 'Martes', 'Miercoles', 'Jueves', 'Viernes']\n"
     ]
    }
   ],
   "source": [
    "semana = ['lunes', 'martes', 'miercoles', 'jueves', 'viernes', 'sabado', 'domingo']\n",
    "\n",
    "lista = [ dia.title() for dia in semana if dia[-1] == 's']\n",
    "\n",
    "print(lista)"
   ]
  },
  {
   "cell_type": "code",
   "execution_count": 36,
   "metadata": {},
   "outputs": [
    {
     "name": "stdout",
     "output_type": "stream",
     "text": [
      "['L', 'M', 'M', 'J', 'V']\n"
     ]
    }
   ],
   "source": [
    "semana = ['lunes', 'martes', 'miercoles', 'jueves', 'viernes', 'sabado', 'domingo']\n",
    "\n",
    "lista = [ dia[0].upper() for dia in semana if dia[-1] == 's']\n",
    "\n",
    "print(lista)"
   ]
  },
  {
   "cell_type": "markdown",
   "metadata": {},
   "source": [
    "> ***Ejercicios:*** Listas por comprensión"
   ]
  }
 ],
 "metadata": {
  "kernelspec": {
   "display_name": "Python 3",
   "language": "python",
   "name": "python3"
  },
  "language_info": {
   "codemirror_mode": {
    "name": "ipython",
    "version": 3
   },
   "file_extension": ".py",
   "mimetype": "text/x-python",
   "name": "python",
   "nbconvert_exporter": "python",
   "pygments_lexer": "ipython3",
   "version": "3.6.8"
  }
 },
 "nbformat": 4,
 "nbformat_minor": 2
}
