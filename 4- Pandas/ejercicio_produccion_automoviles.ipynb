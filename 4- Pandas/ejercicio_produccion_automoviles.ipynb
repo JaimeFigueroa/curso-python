{
 "cells": [
  {
   "cell_type": "markdown",
   "metadata": {},
   "source": [
    "# Producción de automoviles por país"
   ]
  },
  {
   "cell_type": "markdown",
   "metadata": {},
   "source": [
    "En este ejercicio vamos a explorar datos publicados por el [INEGI](https://www.inegi.org.mx/datos/) acerca de la producción de automóviles en distintos paises.  \n",
    "\n",
    "Para comenzar importa las librerías necesarias y carga los datos del csv en un dataframe. Utiliza las primeras lineas del notebook para familiarizarte con el dataset, hacer correcciones (de ser necesarias) y continua contestando los ejercicios descritos acontinuación."
   ]
  },
  {
   "cell_type": "code",
   "execution_count": null,
   "metadata": {},
   "outputs": [],
   "source": [
    "import matplotlib.pyplot as plt\n",
    "import numpy as np\n",
    "import pandas as pd\n",
    "\n",
    "\n",
    "data = pd.read_csv('data/produccion_automoviles.csv', index_col='pais')"
   ]
  },
  {
   "cell_type": "code",
   "execution_count": null,
   "metadata": {},
   "outputs": [],
   "source": []
  },
  {
   "cell_type": "code",
   "execution_count": null,
   "metadata": {},
   "outputs": [],
   "source": []
  },
  {
   "cell_type": "code",
   "execution_count": null,
   "metadata": {},
   "outputs": [],
   "source": []
  },
  {
   "cell_type": "markdown",
   "metadata": {},
   "source": [
    "### Para este ejercicio nos interesa conocer el crecimiento de la región norteamerica.\n",
    "Genera un dataframe solo con los datos de Mexico, Estados Unidos y Canada, y grafica la producción de estos tres paises."
   ]
  },
  {
   "cell_type": "code",
   "execution_count": null,
   "metadata": {},
   "outputs": [],
   "source": []
  },
  {
   "cell_type": "markdown",
   "metadata": {},
   "source": [
    "### Grafica el crecimiento acumulado de cada país para poder compararlos\n",
    "Divide la producción de todos los registros de cada pais entre la producción del primer año para y grafica el resultado"
   ]
  },
  {
   "cell_type": "code",
   "execution_count": null,
   "metadata": {},
   "outputs": [],
   "source": []
  },
  {
   "cell_type": "markdown",
   "metadata": {},
   "source": [
    "### Utilizando plt.subplots() grafica ambas gráficas en una misma figura.  \n",
    "Incluye:  \n",
    "* un titulo para cáda gráfica\n",
    "* una línea horizontal roja en la grafica del crecimiento acumulado que marque el valor inicial (100%) para usar como referencia visual"
   ]
  },
  {
   "cell_type": "code",
   "execution_count": null,
   "metadata": {},
   "outputs": [],
   "source": []
  },
  {
   "cell_type": "markdown",
   "metadata": {},
   "source": [
    "### Genera un grafico con valores brutos y tasa de crecimiento acumulado por continente\n",
    "En el siguiente csv podras encontrar el continente al que pertenece cada país. Agrega esta información a la de los paises y genera un gráfico similar al del ejercicio anterior."
   ]
  },
  {
   "cell_type": "code",
   "execution_count": null,
   "metadata": {},
   "outputs": [],
   "source": [
    "data_continentes = pd.read_csv('data/continentes_produccion_automoviles.csv', index_col='pais')"
   ]
  },
  {
   "cell_type": "code",
   "execution_count": null,
   "metadata": {},
   "outputs": [],
   "source": []
  }
 ],
 "metadata": {
  "kernelspec": {
   "display_name": "Python 3",
   "language": "python",
   "name": "python3"
  },
  "language_info": {
   "codemirror_mode": {
    "name": "ipython",
    "version": 3
   },
   "file_extension": ".py",
   "mimetype": "text/x-python",
   "name": "python",
   "nbconvert_exporter": "python",
   "pygments_lexer": "ipython3",
   "version": "3.7.3"
  }
 },
 "nbformat": 4,
 "nbformat_minor": 2
}
